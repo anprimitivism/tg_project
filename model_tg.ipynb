{
 "cells": [
  {
   "cell_type": "markdown",
   "id": "b2b9915d",
   "metadata": {},
   "source": [
    "прописать классы  \n",
    "прописать элементы игры  \n",
    "вывести результаты"
   ]
  },
  {
   "cell_type": "code",
   "execution_count": 3,
   "id": "8170066b",
   "metadata": {},
   "outputs": [],
   "source": [
    "import numpy as np"
   ]
  },
  {
   "cell_type": "code",
   "execution_count": 179,
   "id": "75b88480",
   "metadata": {},
   "outputs": [],
   "source": [
    "class Channels(): ## матрица связей каналов\n",
    "    \n",
    "    def __init__(self, graph_status):\n",
    "        \n",
    "        self.graph_status = graph_status\n",
    "        self.graph = np.zeros((100, 100), int)\n",
    "        \n",
    "        if self.graph_status:\n",
    "            for i in range(100):\n",
    "                for j in range(100):\n",
    "                    if np.random.binomial(n = 1, p = 0.5) > 0:\n",
    "                        self.graph[i][j] = np.random.poisson(10, 1)"
   ]
  },
  {
   "cell_type": "code",
   "execution_count": 341,
   "id": "4cd5e3d7",
   "metadata": {},
   "outputs": [
    {
     "data": {
      "text/plain": [
       "array([[11,  0,  9, ...,  7, 18,  0],\n",
       "       [ 0,  0,  0, ...,  0, 10,  0],\n",
       "       [ 0,  0,  0, ..., 11, 11,  9],\n",
       "       ...,\n",
       "       [ 0,  7,  0, ...,  7,  0, 13],\n",
       "       [ 6, 10,  8, ...,  2,  7, 13],\n",
       "       [ 0,  0,  0, ...,  0,  0,  8]])"
      ]
     },
     "execution_count": 341,
     "metadata": {},
     "output_type": "execute_result"
    }
   ],
   "source": [
    "a = Channels(True).graph\n",
    "a"
   ]
  },
  {
   "cell_type": "code",
   "execution_count": 349,
   "id": "59e660b2",
   "metadata": {},
   "outputs": [],
   "source": [
    "class Users(): ## юзеры с подписками на каналы\n",
    "    \n",
    "    def __init__(self):\n",
    "        self.read = np.zeros(5000,list)\n",
    "        for i in range(5000):\n",
    "              self.read[i] = [np.random.randint(0, 99) for i in range(np.random.randint(1, 11))]"
   ]
  },
  {
   "cell_type": "code",
   "execution_count": 352,
   "id": "dba11d3e",
   "metadata": {},
   "outputs": [
    {
     "data": {
      "text/plain": [
       "array([list([31, 37, 46, 58, 94, 43, 86, 55]), list([41, 80]),\n",
       "       list([54, 32, 1, 18, 94]), ...,\n",
       "       list([43, 55, 58, 48, 46, 69, 95, 48, 44, 31]),\n",
       "       list([83, 40, 29, 5, 87, 10, 49, 56]),\n",
       "       list([55, 69, 10, 8, 28, 48])], dtype=object)"
      ]
     },
     "execution_count": 352,
     "metadata": {},
     "output_type": "execute_result"
    }
   ],
   "source": [
    " Users().__dict__['read']"
   ]
  },
  {
   "cell_type": "code",
   "execution_count": 353,
   "id": "7973699f",
   "metadata": {
    "scrolled": true
   },
   "outputs": [
    {
     "data": {
      "text/plain": [
       "(5000,)"
      ]
     },
     "execution_count": 353,
     "metadata": {},
     "output_type": "execute_result"
    }
   ],
   "source": [
    " Users().__dict__['read'].shape"
   ]
  },
  {
   "cell_type": "code",
   "execution_count": 357,
   "id": "8d1e183c",
   "metadata": {},
   "outputs": [],
   "source": [
    "class Publications: ## публикация постов - сенситивные/несенситивные\n",
    "    \n",
    "    def __init__(self):\n",
    "        self.sensitive = np.zeros(100, int)\n",
    "        for i in range(100):\n",
    "            self.sensitive[i] = np.random.binomial(n = 1, p = 0.3)"
   ]
  },
  {
   "cell_type": "code",
   "execution_count": 372,
   "id": "aed91c0e",
   "metadata": {
    "scrolled": true
   },
   "outputs": [
    {
     "data": {
      "text/plain": [
       "array([0, 1, 0, 0, 0, 0, 0, 1, 1, 0, 1, 0, 0, 0, 0, 0, 0, 0, 1, 0, 1, 1,\n",
       "       0, 0, 0, 1, 1, 1, 0, 1, 0, 0, 1, 0, 1, 1, 0, 0, 0, 0, 1, 0, 0, 0,\n",
       "       1, 1, 1, 0, 0, 1, 0, 0, 1, 0, 0, 1, 0, 1, 0, 0, 0, 1, 0, 0, 0, 0,\n",
       "       0, 1, 0, 0, 0, 0, 0, 1, 0, 0, 0, 1, 0, 0, 0, 0, 0, 0, 0, 1, 1, 0,\n",
       "       0, 0, 0, 0, 1, 0, 0, 0, 0, 1, 1, 0])"
      ]
     },
     "execution_count": 372,
     "metadata": {},
     "output_type": "execute_result"
    }
   ],
   "source": [
    "Publications().sensitive"
   ]
  },
  {
   "cell_type": "code",
   "execution_count": null,
   "id": "7d51b7f2",
   "metadata": {},
   "outputs": [],
   "source": [
    "есть связь?"
   ]
  }
 ],
 "metadata": {
  "kernelspec": {
   "display_name": "Python 3 (ipykernel)",
   "language": "python",
   "name": "python3"
  },
  "language_info": {
   "codemirror_mode": {
    "name": "ipython",
    "version": 3
   },
   "file_extension": ".py",
   "mimetype": "text/x-python",
   "name": "python",
   "nbconvert_exporter": "python",
   "pygments_lexer": "ipython3",
   "version": "3.9.13"
  }
 },
 "nbformat": 4,
 "nbformat_minor": 5
}
