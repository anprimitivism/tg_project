{
 "cells": [
  {
   "cell_type": "markdown",
   "id": "b2b9915d",
   "metadata": {},
   "source": [
    "прописать классы  \n",
    "прописать элементы игры  \n",
    "вывести результаты"
   ]
  },
  {
   "cell_type": "code",
   "execution_count": 4,
   "id": "8170066b",
   "metadata": {},
   "outputs": [],
   "source": [
    "import numpy as np"
   ]
  },
  {
   "cell_type": "code",
   "execution_count": null,
   "id": "a29f7232",
   "metadata": {},
   "outputs": [],
   "source": []
  },
  {
   "cell_type": "code",
   "execution_count": 136,
   "id": "59e660b2",
   "metadata": {},
   "outputs": [],
   "source": [
    "class Users(): ## юзеры с подписками на каналы\n",
    "    \n",
    "    def __init__(self):\n",
    "        self.read = [np.random.choice(np.arange(0, 100), np.random.randint(1, 11), replace=False) for i in range(5000)]"
   ]
  },
  {
   "cell_type": "code",
   "execution_count": 113,
   "id": "e9624809",
   "metadata": {},
   "outputs": [
    {
     "data": {
      "text/plain": [
       "[array([ 7, 51, 63]),\n",
       " array([ 8, 30, 49, 56, 67, 40, 97]),\n",
       " array([18, 97, 89, 84, 26,  3, 33, 45]),\n",
       " array([33, 35, 47, 31, 57, 60, 46, 41, 93]),\n",
       " array([68, 20, 79, 22]),\n",
       " array([40, 12, 42, 37, 79, 41, 81, 63, 58]),\n",
       " array([76]),\n",
       " array([46, 43, 58, 17, 63,  7, 37, 74,  0, 77]),\n",
       " array([42, 54, 86, 21]),\n",
       " array([54, 98]),\n",
       " array([79, 22, 12, 53, 29, 74,  6]),\n",
       " array([70]),\n",
       " array([27, 76,  9]),\n",
       " array([20, 39, 96, 74]),\n",
       " array([ 8, 53, 98, 75, 17, 56,  2, 88, 73, 55]),\n",
       " array([64, 82,  9, 11, 59, 38]),\n",
       " array([72, 61, 25, 31,  6, 32]),\n",
       " array([28, 14,  2, 41, 82, 52, 22]),\n",
       " array([ 7, 88, 75]),\n",
       " array([16,  5]),\n",
       " array([58, 74, 88, 31, 78]),\n",
       " array([86, 21, 92, 84, 89,  0, 54, 68]),\n",
       " array([24,  7, 17, 18, 69, 87, 21, 81, 57, 71]),\n",
       " array([78, 41, 35, 40, 50]),\n",
       " array([51, 58, 89, 54, 97, 61,  8, 86]),\n",
       " array([11, 60, 18, 64]),\n",
       " array([ 5,  0, 30, 35, 79, 31, 57]),\n",
       " array([40, 19, 35, 83, 55]),\n",
       " array([13, 49, 17, 56, 68, 32]),\n",
       " array([25, 81, 97,  2, 49, 24, 34, 67, 13]),\n",
       " array([39]),\n",
       " array([10, 39, 11]),\n",
       " array([37, 52, 56, 22,  9, 15]),\n",
       " array([83, 36]),\n",
       " array([71, 94, 69, 50, 55, 78, 81]),\n",
       " array([ 7, 64, 95, 90, 42]),\n",
       " array([61, 48, 46]),\n",
       " array([11, 52, 66, 91, 89, 23, 78, 41, 20, 73]),\n",
       " array([91, 66, 27, 68]),\n",
       " array([ 9, 46, 57, 21, 69, 41, 70, 37]),\n",
       " array([10, 95, 98, 47, 59]),\n",
       " array([41,  0, 61, 17, 32, 44]),\n",
       " array([49, 85, 42, 95, 39, 71, 68, 60, 11]),\n",
       " array([37, 74,  7, 13, 38, 52, 41]),\n",
       " array([70, 18,  7, 53, 89, 96, 33, 16, 83, 31]),\n",
       " array([50, 92]),\n",
       " array([ 1, 22, 80, 44,  4, 85, 94]),\n",
       " array([58, 40, 19, 47, 30, 17, 75]),\n",
       " array([96, 36, 19, 85, 65, 81, 22,  3]),\n",
       " array([38, 50, 31, 22, 10, 83, 59])]"
      ]
     },
     "execution_count": 113,
     "metadata": {},
     "output_type": "execute_result"
    }
   ],
   "source": [
    "users = Users().__dict__['read']\n",
    "users[:50]"
   ]
  },
  {
   "cell_type": "code",
   "execution_count": 114,
   "id": "54a97e79",
   "metadata": {},
   "outputs": [],
   "source": [
    "for i in users:  #подписки не повторяются\n",
    "    if len(i) != len(set(i)):\n",
    "        print(i)"
   ]
  },
  {
   "cell_type": "code",
   "execution_count": null,
   "id": "eb305082",
   "metadata": {},
   "outputs": [],
   "source": []
  },
  {
   "cell_type": "code",
   "execution_count": 357,
   "id": "8d1e183c",
   "metadata": {},
   "outputs": [],
   "source": [
    "class Publications: ## публикация постов - сенситивные/несенситивные\n",
    "    \n",
    "    def __init__(self):\n",
    "        self.sensitive = np.zeros(100, int)\n",
    "        for i in range(100):\n",
    "            self.sensitive[i] = np.random.binomial(n = 1, p = 0.3)"
   ]
  },
  {
   "cell_type": "code",
   "execution_count": 372,
   "id": "aed91c0e",
   "metadata": {
    "scrolled": false
   },
   "outputs": [
    {
     "data": {
      "text/plain": [
       "array([0, 1, 0, 0, 0, 0, 0, 1, 1, 0, 1, 0, 0, 0, 0, 0, 0, 0, 1, 0, 1, 1,\n",
       "       0, 0, 0, 1, 1, 1, 0, 1, 0, 0, 1, 0, 1, 1, 0, 0, 0, 0, 1, 0, 0, 0,\n",
       "       1, 1, 1, 0, 0, 1, 0, 0, 1, 0, 0, 1, 0, 1, 0, 0, 0, 1, 0, 0, 0, 0,\n",
       "       0, 1, 0, 0, 0, 0, 0, 1, 0, 0, 0, 1, 0, 0, 0, 0, 0, 0, 0, 1, 1, 0,\n",
       "       0, 0, 0, 0, 1, 0, 0, 0, 0, 1, 1, 0])"
      ]
     },
     "execution_count": 372,
     "metadata": {},
     "output_type": "execute_result"
    }
   ],
   "source": [
    "Publications().sensitive"
   ]
  },
  {
   "cell_type": "code",
   "execution_count": 142,
   "id": "ba25c347",
   "metadata": {},
   "outputs": [],
   "source": [
    "class Channels(): \n",
    "    \n",
    "    def __init__(self, graph_status):\n",
    "        \n",
    "        self.graph_status = graph_status ## матрица связей каналов\n",
    "        self.graph = np.zeros((100, 100), int)\n",
    "        \n",
    "        if self.graph_status:\n",
    "            for i in range(100):\n",
    "                for j in range(100):\n",
    "                    if np.random.binomial(n = 1, p = 0.5) > 0:\n",
    "                        self.graph[i][j] = np.random.poisson(10, 1)\n",
    "                        \n",
    "        self.n_followers = np.zeros(100, list) ## каналы с количеством подписчиков\n",
    "        for i in range(100): \n",
    "            for j in range(5000):\n",
    "                if i in users[j]: \n",
    "                        self.n_followers[i] += 1 "
   ]
  },
  {
   "cell_type": "code",
   "execution_count": 47,
   "id": "68aeb26b",
   "metadata": {},
   "outputs": [
    {
     "data": {
      "text/plain": [
       "[array([46, 40, 44, 18, 39, 21]),\n",
       " array([72, 46, 19, 56, 94, 67, 35]),\n",
       " array([82, 29,  9, 27, 60, 91]),\n",
       " array([61, 58, 65]),\n",
       " array([38, 47,  1, 29, 43, 52, 89, 64, 58]),\n",
       " array([ 8, 36, 11, 43, 70, 22]),\n",
       " array([17, 26, 49, 86, 31, 15]),\n",
       " array([63, 42, 91, 43]),\n",
       " array([49, 75]),\n",
       " array([27, 65, 54, 17, 45,  3, 99]),\n",
       " array([67]),\n",
       " array([43, 30, 75, 69, 17, 72]),\n",
       " array([16, 29]),\n",
       " array([ 2,  5, 92, 53, 81, 97, 59, 90, 69]),\n",
       " array([96, 28, 87, 51]),\n",
       " array([ 6, 33, 37, 79, 30]),\n",
       " array([96, 61, 46, 72, 90, 78,  3, 63]),\n",
       " array([16, 31, 30, 40, 24,  6, 74, 65]),\n",
       " array([96, 23, 65, 39, 13, 41, 94, 46, 93, 97]),\n",
       " array([63, 92]),\n",
       " array([77, 18, 60, 64, 33, 68,  8, 79]),\n",
       " array([85, 27]),\n",
       " array([13]),\n",
       " array([80, 98, 60, 49, 90]),\n",
       " array([75, 72, 83, 20]),\n",
       " array([72, 16]),\n",
       " array([62, 21, 55, 66]),\n",
       " array([21, 98, 24, 52, 97, 91, 47,  2]),\n",
       " array([60, 42, 51, 26, 20, 64, 44, 74, 57, 75]),\n",
       " array([14,  0, 12]),\n",
       " array([36, 41, 42, 57, 32, 96, 93, 62, 82]),\n",
       " array([15, 33, 36, 87, 10,  9, 95, 81]),\n",
       " array([37]),\n",
       " array([70, 26, 10, 85, 66, 36, 41,  6]),\n",
       " array([58, 99, 36, 32, 55]),\n",
       " array([56, 16, 11, 87, 44, 65]),\n",
       " array([56, 78, 81, 80, 35, 20, 97,  5, 89]),\n",
       " array([87, 58]),\n",
       " array([30, 96, 22, 78, 45, 56, 19]),\n",
       " array([97, 30,  1, 47, 89, 48, 45, 26]),\n",
       " array([98, 78, 94, 35,  7, 47]),\n",
       " array([78, 35, 56]),\n",
       " array([11,  4]),\n",
       " array([59, 40,  1, 17, 39, 46, 54]),\n",
       " array([64]),\n",
       " array([20, 56,  3, 91,  0, 65, 85, 55, 66, 18]),\n",
       " array([14, 40]),\n",
       " array([ 4, 21, 25]),\n",
       " array([92, 78, 56, 16, 35, 27, 29, 10, 40, 55]),\n",
       " array([97, 51, 49, 40, 19, 73, 93, 29])]"
      ]
     },
     "execution_count": 47,
     "metadata": {},
     "output_type": "execute_result"
    }
   ],
   "source": [
    "model.users.read[:50]"
   ]
  },
  {
   "cell_type": "code",
   "execution_count": 46,
   "id": "5425eb21",
   "metadata": {},
   "outputs": [
    {
     "name": "stdout",
     "output_type": "stream",
     "text": [
      "{0: [29, 45], 1: [4, 39, 43], 2: [13, 27], 3: [9, 16, 45], 4: [42, 47], 5: [13, 36], 6: [15, 17, 33], 7: [40], 8: [5, 20], 9: [2, 31]}\n"
     ]
    }
   ],
   "source": [
    "n_followers = {i: [] for i in range(10)} \n",
    "\n",
    "for i in range(10): \n",
    "    for j in range(50):\n",
    "        if i in model.users.read[j]: \n",
    "            n_followers[i].append(j)\n",
    "\n",
    "print(n_followers)"
   ]
  },
  {
   "cell_type": "code",
   "execution_count": 145,
   "id": "dc21715c",
   "metadata": {},
   "outputs": [
    {
     "data": {
      "text/plain": [
       "array([306, 277, 288, 266, 283, 272, 290, 264, 255, 288, 294, 275, 254,\n",
       "       278, 270, 265, 271, 251, 290, 268, 266, 271, 305, 281, 274, 254,\n",
       "       268, 288, 287, 288, 232, 298, 286, 253, 289, 309, 251, 275, 275,\n",
       "       295, 258, 271, 261, 279, 302, 265, 272, 291, 310, 285, 279, 266,\n",
       "       275, 278, 242, 263, 279, 270, 308, 281, 296, 289, 271, 268, 292,\n",
       "       273, 299, 258, 279, 275, 264, 274, 243, 278, 282, 250, 259, 307,\n",
       "       295, 276, 303, 253, 291, 252, 295, 284, 271, 277, 267, 290, 278,\n",
       "       256, 292, 291, 260, 306, 284, 280, 283, 252], dtype=object)"
      ]
     },
     "execution_count": 145,
     "metadata": {},
     "output_type": "execute_result"
    }
   ],
   "source": [
    "n_followers = Channels(False).n_followers\n",
    "n_followers"
   ]
  },
  {
   "cell_type": "code",
   "execution_count": 144,
   "id": "4cd5e3d7",
   "metadata": {
    "scrolled": true
   },
   "outputs": [
    {
     "data": {
      "text/plain": [
       "array([[ 0,  9,  9, ...,  0, 13, 10],\n",
       "       [ 0,  6,  3, ...,  0,  7, 11],\n",
       "       [ 9, 14,  0, ...,  0,  0,  0],\n",
       "       ...,\n",
       "       [10,  0,  0, ...,  9,  0, 14],\n",
       "       [ 0, 14,  0, ...,  0,  7,  0],\n",
       "       [18,  0, 16, ..., 10,  0, 13]])"
      ]
     },
     "execution_count": 144,
     "metadata": {},
     "output_type": "execute_result"
    }
   ],
   "source": [
    "graph = Channels(True).graph\n",
    "graph"
   ]
  },
  {
   "cell_type": "markdown",
   "id": "c141f0a4",
   "metadata": {},
   "source": [
    "Вероятность детекции регулятором оценивается как количество подписчиков в канале/сумма подписчиков по всем каналам. Обратите внимание, что знаменатель будет больше 5000. С другой стороны, сенситивный пост даёт каналу возможность набора подписчиков. "
   ]
  },
  {
   "cell_type": "code",
   "execution_count": 173,
   "id": "97a3d763",
   "metadata": {},
   "outputs": [
    {
     "name": "stdout",
     "output_type": "stream",
     "text": [
      "0.01040537611099068\n",
      "0.009610520991401113\n",
      "0.009538261435074788\n",
      "0.010622154779969651\n",
      "0.009755040104053762\n",
      "0.009574391213237951\n",
      "0.009791169882216923\n",
      "0.010477635667317003\n",
      "0.009682780547727437\n",
      "0.009610520991401113\n",
      "0.011019582339764434\n",
      "0.010152467663848544\n",
      "0.00989955921670641\n",
      "0.009176963653443167\n",
      "0.010369246332827516\n",
      "0.008382108533853603\n",
      "0.0107666738926223\n",
      "0.009140833875280006\n",
      "0.011164101452417082\n",
      "0.009935688994869572\n",
      "0.009321482766095816\n",
      "0.009791169882216923\n",
      "0.010911193005274948\n",
      "0.009574391213237951\n",
      "0.01008020810752222\n",
      "0.009610520991401113\n",
      "0.01008020810752222\n",
      "0.010694414336295975\n",
      "0.010549895223643326\n",
      "0.009863429438543247\n",
      "0.010802803670785462\n",
      "0.009538261435074788\n",
      "0.010044078329359057\n",
      "0.009032444540790519\n",
      "0.009140833875280006\n",
      "0.010513765445480164\n",
      "0.01026085699833803\n",
      "0.009791169882216923\n",
      "0.010477635667317003\n",
      "0.009393742322422141\n",
      "0.01026085699833803\n",
      "0.010224727220174867\n"
     ]
    }
   ],
   "source": [
    "for i in range(100): # вероятность блокировки в первом раунде у всех не более 1%\n",
    "    if sens_publications[i] == 1:\n",
    "        print(n_followers[i]/n_followers.sum())"
   ]
  },
  {
   "cell_type": "code",
   "execution_count": 117,
   "id": "736b2c32",
   "metadata": {},
   "outputs": [
    {
     "name": "stdout",
     "output_type": "stream",
     "text": [
      "[0 0 0 0 0 0 0 0 0 0 0 0 0 0 0 0 0 0 0 0 0 0 0 0 0 0 0 0 0 0 0 0 0 0 0 0 0\n",
      " 0 0 0 0 0 0 0 0 0 0 0 0 0 0 0 0 0 0 0 0 0 0 0 0 0 0 0 0 0 0 0 0 0 0 0 0 0\n",
      " 0 0 0 0 0 0 0 0 0 0 0 0 0 0 0 0 0 0 0 0 0 0 0 0 0 0]\n",
      "{0: 1076, 1: 1224, 2: 1482, 3: 1214, 4: 1325, 5: 1405, 6: 1636, 7: 1288, 8: 1252, 9: 937, 10: 1187, 11: 1154, 12: 1262, 13: 922, 14: 1206, 15: 1295, 16: 954, 17: 1127, 18: 1221, 19: 1212, 20: 1480, 21: 1443, 22: 1099, 23: 1454, 24: 1628, 25: 1348, 26: 1111, 27: 1251, 28: 1278, 29: 1011, 30: 1244, 31: 1267, 32: 1303, 33: 1162, 34: 942, 35: 1479, 36: 1331, 37: 1372, 38: 1595, 39: 1130, 40: 1014, 41: 1241, 42: 1470, 43: 930, 44: 1036, 45: 1343, 46: 1147, 47: 1249, 48: 1390, 49: 980, 50: 1083, 51: 978, 52: 1440, 53: 1196, 54: 909, 55: 1098, 56: 918, 57: 1283, 58: 1132, 59: 1032, 60: 1202, 61: 1502, 62: 1208, 63: 1096, 64: 1072, 65: 992, 66: 1282, 67: 963, 68: 1290, 69: 1130, 70: 1148, 71: 1282, 72: 1262, 73: 1301, 74: 1259, 75: 1207, 76: 1456, 77: 1272, 78: 1267, 79: 1534, 80: 1286, 81: 1307, 82: 1160, 83: 1442, 84: 1077, 85: 1187, 86: 1106, 87: 831, 88: 1409, 89: 1319, 90: 1459, 91: 1341, 92: 1362, 93: 1233, 94: 925, 95: 1171, 96: 1263, 97: 1499, 98: 1247, 99: 1034}\n",
      "[247 293 291 270 276 293 277 315 268 295 275 293 269 294 274 287 276 289\n",
      " 266 284 298 246 275 277 267 248 288 275 255 277 238 287 270 265 272 275\n",
      " 292 258 273 310 278 259 276 291 281 278 263 311 281 286 303 263 271 251\n",
      " 276 258 276 267 271 270 268 281 290 255 261 272 264 300 289 252 286 271\n",
      " 260 272 264 257 299 299 268 266 288 248 257 291 286 245 296 307 266 276\n",
      " 299 254 267 283 259 293 279 270 277 276]\n",
      "[[ 9  0  0 ...  0  4  0]\n",
      " [ 0  0  0 ...  0  0  0]\n",
      " [12  6 12 ...  7  0  7]\n",
      " ...\n",
      " [12  7  4 ...  0  0  8]\n",
      " [12  0  0 ...  0 11  0]\n",
      " [11  0  6 ...  7  7  0]]\n"
     ]
    }
   ],
   "source": [
    "import numpy as np\n",
    "\n",
    "class Model:\n",
    "    \n",
    "    class Users(): ## юзеры с подписками на каналы\n",
    "    \n",
    "        def __init__(self):\n",
    "            self.read = [np.random.choice(np.arange(0, 100), np.random.randint(1, 11), replace=False) for i in range(5000)]\n",
    "        \n",
    "        \n",
    "    class Publications: ## публикация постов - сенситивные/несенситивные\n",
    "    \n",
    "        def __init__(self):\n",
    "            self.sensitive = np.zeros(100, int)\n",
    "            for i in range(100):\n",
    "                self.sensitive[i] = np.random.binomial(n = 1, p = 0.3)\n",
    "    \n",
    "    \n",
    "    class Channels(): \n",
    "\n",
    "        def __init__(self, graph_status, users):\n",
    "\n",
    "            self.graph_status = graph_status ## матрица связей каналов\n",
    "            self.graph = np.zeros((100, 100), int)\n",
    "\n",
    "            if self.graph_status:\n",
    "                for i in range(100):\n",
    "                    for j in range(100):\n",
    "                        if np.random.binomial(n = 1, p = 0.5) > 0:\n",
    "                            self.graph[i][j] = np.random.poisson(10, 1)\n",
    "\n",
    "            self.n_followers = np.zeros(100, int) ## каналы с количеством подписчиков\n",
    "            for i in range(100): \n",
    "                for j in range(5000):\n",
    "                    if i in users.read[j]: \n",
    "                        self.n_followers[i] += 1 \n",
    "            \n",
    "            self.followers = {i: [] for i in range(100)} ## каналы с перечислением подписчиков\n",
    "            for i in range(100): \n",
    "                for j in range(5000):\n",
    "                    if i in users.read[j]: \n",
    "                        self.followers[i].append(j)\n",
    "    \n",
    "    \n",
    "    class Payoff1: ## раздача банов\n",
    "    \n",
    "        def __init__(self, n_followers, sens_publications):\n",
    "            # блокировки\n",
    "            self.ban = np.zeros(100, int)\n",
    "            for i in range(100):\n",
    "                if sens_publications[i] == 1:\n",
    "                    allus = n_followers.sum()\n",
    "                    self.ban[i] = np.random.binomial(n = 1, p = n_followers[i]/allus)\n",
    "    \n",
    "    \n",
    "    class Payoff2: ## переход подписчиков\n",
    "    \n",
    "        def __init__(self, graph, sens_publications, n_followers, followers, users):\n",
    "            self.moving = {i: 0 for i in range(100)} \n",
    "\n",
    "            for i in range(100):\n",
    "                for j in range(100):\n",
    "                    if i != j:\n",
    "                        if graph[i][j] > 0 and sens_publications[j] != 1:\n",
    "                            for follower in followers[j]:\n",
    "                                prob = n_followers[i]/(sum(n_followers[y] for y in list(x for x in users.read[follower]))+n_followers[i])\n",
    "                                if np.random.binomial(n = 1, p = prob) == 1:\n",
    "                                    self.moving[i] += 1\n",
    "\n",
    "    \n",
    "    def __init__(self):\n",
    "        \n",
    "        self.users = self.Users()\n",
    "        self.sens_publications = self.Publications().sensitive\n",
    "        self.n_followers = self.Channels(False, self.users).n_followers\n",
    "        self.followers = self.Channels(False, self.users).followers\n",
    "        self.graph = self.Channels(True, self.users).graph\n",
    "        self.ban = self.Payoff1(model.n_followers, model.sens_publications).ban\n",
    "        self.moving = Payoff2(model.graph, model.sens_publications, model.n_followers, model.followers, model.users).moving\n",
    "\n",
    "model = Model()\n",
    "\n",
    "print(model.ban)\n",
    "print(model.moving)\n",
    "print(model.n_followers)\n",
    "print(model.graph)"
   ]
  },
  {
   "cell_type": "code",
   "execution_count": 114,
   "id": "b4b1833a",
   "metadata": {},
   "outputs": [],
   "source": [
    "class Payoff2:\n",
    "    \n",
    "    def __init__(self, graph, sens_publications, n_followers, followers, users):\n",
    "        self.moving = {i: 0 for i in range(100)} \n",
    "        \n",
    "        for i in range(100):\n",
    "            for j in range(100):\n",
    "                if i != j:\n",
    "                    if graph[i][j] > 0 and sens_publications[j] != 1:\n",
    "                        for follower in followers[j]:\n",
    "                            prob = n_followers[i]/(sum(n_followers[y] for y in list(x for x in users.read[follower]))+n_followers[i])\n",
    "                            if np.random.binomial(n = 1, p = prob) == 1:\n",
    "                                self.moving[i] += 1\n",
    "            "
   ]
  },
  {
   "cell_type": "code",
   "execution_count": 115,
   "id": "fe549a08",
   "metadata": {},
   "outputs": [
    {
     "data": {
      "text/plain": [
       "{0: 1033,\n",
       " 1: 1253,\n",
       " 2: 1445,\n",
       " 3: 1267,\n",
       " 4: 1296,\n",
       " 5: 1368,\n",
       " 6: 1657,\n",
       " 7: 1355,\n",
       " 8: 1164,\n",
       " 9: 931,\n",
       " 10: 1185,\n",
       " 11: 1109,\n",
       " 12: 1249,\n",
       " 13: 926,\n",
       " 14: 1129,\n",
       " 15: 1384,\n",
       " 16: 953,\n",
       " 17: 1164,\n",
       " 18: 1178,\n",
       " 19: 1130,\n",
       " 20: 1513,\n",
       " 21: 1429,\n",
       " 22: 1021,\n",
       " 23: 1496,\n",
       " 24: 1576,\n",
       " 25: 1360,\n",
       " 26: 1123,\n",
       " 27: 1279,\n",
       " 28: 1253,\n",
       " 29: 1053,\n",
       " 30: 1239,\n",
       " 31: 1246,\n",
       " 32: 1322,\n",
       " 33: 1228,\n",
       " 34: 915,\n",
       " 35: 1439,\n",
       " 36: 1332,\n",
       " 37: 1333,\n",
       " 38: 1531,\n",
       " 39: 1120,\n",
       " 40: 997,\n",
       " 41: 1290,\n",
       " 42: 1441,\n",
       " 43: 965,\n",
       " 44: 955,\n",
       " 45: 1272,\n",
       " 46: 1153,\n",
       " 47: 1175,\n",
       " 48: 1379,\n",
       " 49: 977,\n",
       " 50: 1120,\n",
       " 51: 993,\n",
       " 52: 1426,\n",
       " 53: 1218,\n",
       " 54: 886,\n",
       " 55: 1126,\n",
       " 56: 984,\n",
       " 57: 1258,\n",
       " 58: 1165,\n",
       " 59: 1043,\n",
       " 60: 1180,\n",
       " 61: 1484,\n",
       " 62: 1325,\n",
       " 63: 1110,\n",
       " 64: 1130,\n",
       " 65: 1053,\n",
       " 66: 1268,\n",
       " 67: 950,\n",
       " 68: 1301,\n",
       " 69: 1129,\n",
       " 70: 1240,\n",
       " 71: 1222,\n",
       " 72: 1234,\n",
       " 73: 1297,\n",
       " 74: 1260,\n",
       " 75: 1234,\n",
       " 76: 1478,\n",
       " 77: 1300,\n",
       " 78: 1275,\n",
       " 79: 1586,\n",
       " 80: 1299,\n",
       " 81: 1243,\n",
       " 82: 1094,\n",
       " 83: 1494,\n",
       " 84: 1053,\n",
       " 85: 1176,\n",
       " 86: 1142,\n",
       " 87: 818,\n",
       " 88: 1386,\n",
       " 89: 1253,\n",
       " 90: 1459,\n",
       " 91: 1244,\n",
       " 92: 1405,\n",
       " 93: 1164,\n",
       " 94: 984,\n",
       " 95: 1125,\n",
       " 96: 1248,\n",
       " 97: 1510,\n",
       " 98: 1278,\n",
       " 99: 1028}"
      ]
     },
     "execution_count": 115,
     "metadata": {},
     "output_type": "execute_result"
    }
   ],
   "source": [
    "Payoff2(model.graph, model.sens_publications, model.n_followers, model.followers, model.users).moving"
   ]
  }
 ],
 "metadata": {
  "kernelspec": {
   "display_name": "Python 3 (ipykernel)",
   "language": "python",
   "name": "python3"
  },
  "language_info": {
   "codemirror_mode": {
    "name": "ipython",
    "version": 3
   },
   "file_extension": ".py",
   "mimetype": "text/x-python",
   "name": "python",
   "nbconvert_exporter": "python",
   "pygments_lexer": "ipython3",
   "version": "3.9.13"
  }
 },
 "nbformat": 4,
 "nbformat_minor": 5
}
