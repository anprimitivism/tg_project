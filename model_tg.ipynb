{
 "cells": [
  {
   "cell_type": "markdown",
   "id": "b2b9915d",
   "metadata": {},
   "source": [
    "прописать классы  \n",
    "прописать элементы игры  \n",
    "вывести результаты"
   ]
  },
  {
   "cell_type": "code",
   "execution_count": 3,
   "id": "8170066b",
   "metadata": {},
   "outputs": [],
   "source": [
    "import numpy as np"
   ]
  },
  {
   "cell_type": "code",
   "execution_count": 179,
   "id": "75b88480",
   "metadata": {},
   "outputs": [],
   "source": [
    "class Channels(): ## матрица связей каналов\n",
    "    \n",
    "    def __init__(self, graph_status):\n",
    "        \n",
    "        self.graph_status = graph_status\n",
    "        self.graph = np.zeros((100, 100), int)\n",
    "        \n",
    "        if self.graph_status:\n",
    "            for i in range(100):\n",
    "                for j in range(100):\n",
    "                    if np.random.binomial(n = 1, p = 0.5) > 0:\n",
    "                        self.graph[i][j] = np.random.poisson(10, 1)"
   ]
  },
  {
   "cell_type": "code",
   "execution_count": 341,
   "id": "4cd5e3d7",
   "metadata": {
    "scrolled": true
   },
   "outputs": [
    {
     "data": {
      "text/plain": [
       "array([[11,  0,  9, ...,  7, 18,  0],\n",
       "       [ 0,  0,  0, ...,  0, 10,  0],\n",
       "       [ 0,  0,  0, ..., 11, 11,  9],\n",
       "       ...,\n",
       "       [ 0,  7,  0, ...,  7,  0, 13],\n",
       "       [ 6, 10,  8, ...,  2,  7, 13],\n",
       "       [ 0,  0,  0, ...,  0,  0,  8]])"
      ]
     },
     "execution_count": 341,
     "metadata": {},
     "output_type": "execute_result"
    }
   ],
   "source": [
    "a = Channels(True).graph\n",
    "a"
   ]
  },
  {
   "cell_type": "code",
   "execution_count": null,
   "id": "a627c083",
   "metadata": {},
   "outputs": [],
   "source": []
  },
  {
   "cell_type": "code",
   "execution_count": 136,
   "id": "59e660b2",
   "metadata": {},
   "outputs": [],
   "source": [
    "class Users(): ## юзеры с подписками на каналы\n",
    "    \n",
    "    def __init__(self):\n",
    "        self.read = [np.random.choice(np.arange(0, 100), np.random.randint(1, 11), replace=False) for i in range(5000)]"
   ]
  },
  {
   "cell_type": "code",
   "execution_count": 113,
   "id": "b2ada8e1",
   "metadata": {},
   "outputs": [
    {
     "data": {
      "text/plain": [
       "[array([ 7, 51, 63]),\n",
       " array([ 8, 30, 49, 56, 67, 40, 97]),\n",
       " array([18, 97, 89, 84, 26,  3, 33, 45]),\n",
       " array([33, 35, 47, 31, 57, 60, 46, 41, 93]),\n",
       " array([68, 20, 79, 22]),\n",
       " array([40, 12, 42, 37, 79, 41, 81, 63, 58]),\n",
       " array([76]),\n",
       " array([46, 43, 58, 17, 63,  7, 37, 74,  0, 77]),\n",
       " array([42, 54, 86, 21]),\n",
       " array([54, 98]),\n",
       " array([79, 22, 12, 53, 29, 74,  6]),\n",
       " array([70]),\n",
       " array([27, 76,  9]),\n",
       " array([20, 39, 96, 74]),\n",
       " array([ 8, 53, 98, 75, 17, 56,  2, 88, 73, 55]),\n",
       " array([64, 82,  9, 11, 59, 38]),\n",
       " array([72, 61, 25, 31,  6, 32]),\n",
       " array([28, 14,  2, 41, 82, 52, 22]),\n",
       " array([ 7, 88, 75]),\n",
       " array([16,  5]),\n",
       " array([58, 74, 88, 31, 78]),\n",
       " array([86, 21, 92, 84, 89,  0, 54, 68]),\n",
       " array([24,  7, 17, 18, 69, 87, 21, 81, 57, 71]),\n",
       " array([78, 41, 35, 40, 50]),\n",
       " array([51, 58, 89, 54, 97, 61,  8, 86]),\n",
       " array([11, 60, 18, 64]),\n",
       " array([ 5,  0, 30, 35, 79, 31, 57]),\n",
       " array([40, 19, 35, 83, 55]),\n",
       " array([13, 49, 17, 56, 68, 32]),\n",
       " array([25, 81, 97,  2, 49, 24, 34, 67, 13]),\n",
       " array([39]),\n",
       " array([10, 39, 11]),\n",
       " array([37, 52, 56, 22,  9, 15]),\n",
       " array([83, 36]),\n",
       " array([71, 94, 69, 50, 55, 78, 81]),\n",
       " array([ 7, 64, 95, 90, 42]),\n",
       " array([61, 48, 46]),\n",
       " array([11, 52, 66, 91, 89, 23, 78, 41, 20, 73]),\n",
       " array([91, 66, 27, 68]),\n",
       " array([ 9, 46, 57, 21, 69, 41, 70, 37]),\n",
       " array([10, 95, 98, 47, 59]),\n",
       " array([41,  0, 61, 17, 32, 44]),\n",
       " array([49, 85, 42, 95, 39, 71, 68, 60, 11]),\n",
       " array([37, 74,  7, 13, 38, 52, 41]),\n",
       " array([70, 18,  7, 53, 89, 96, 33, 16, 83, 31]),\n",
       " array([50, 92]),\n",
       " array([ 1, 22, 80, 44,  4, 85, 94]),\n",
       " array([58, 40, 19, 47, 30, 17, 75]),\n",
       " array([96, 36, 19, 85, 65, 81, 22,  3]),\n",
       " array([38, 50, 31, 22, 10, 83, 59])]"
      ]
     },
     "execution_count": 113,
     "metadata": {},
     "output_type": "execute_result"
    }
   ],
   "source": [
    "users = Users().__dict__['read']\n",
    "users[:50]"
   ]
  },
  {
   "cell_type": "code",
   "execution_count": 114,
   "id": "2538c43c",
   "metadata": {},
   "outputs": [],
   "source": [
    "for i in users:  #подписки не повторяются\n",
    "    if len(i) != len(set(i)):\n",
    "        print(i)"
   ]
  },
  {
   "cell_type": "code",
   "execution_count": null,
   "id": "0d0ab057",
   "metadata": {},
   "outputs": [],
   "source": []
  },
  {
   "cell_type": "code",
   "execution_count": 357,
   "id": "8d1e183c",
   "metadata": {},
   "outputs": [],
   "source": [
    "class Publications: ## публикация постов - сенситивные/несенситивные\n",
    "    \n",
    "    def __init__(self):\n",
    "        self.sensitive = np.zeros(100, int)\n",
    "        for i in range(100):\n",
    "            self.sensitive[i] = np.random.binomial(n = 1, p = 0.3)"
   ]
  },
  {
   "cell_type": "code",
   "execution_count": 372,
   "id": "aed91c0e",
   "metadata": {
    "scrolled": false
   },
   "outputs": [
    {
     "data": {
      "text/plain": [
       "array([0, 1, 0, 0, 0, 0, 0, 1, 1, 0, 1, 0, 0, 0, 0, 0, 0, 0, 1, 0, 1, 1,\n",
       "       0, 0, 0, 1, 1, 1, 0, 1, 0, 0, 1, 0, 1, 1, 0, 0, 0, 0, 1, 0, 0, 0,\n",
       "       1, 1, 1, 0, 0, 1, 0, 0, 1, 0, 0, 1, 0, 1, 0, 0, 0, 1, 0, 0, 0, 0,\n",
       "       0, 1, 0, 0, 0, 0, 0, 1, 0, 0, 0, 1, 0, 0, 0, 0, 0, 0, 0, 1, 1, 0,\n",
       "       0, 0, 0, 0, 1, 0, 0, 0, 0, 1, 1, 0])"
      ]
     },
     "execution_count": 372,
     "metadata": {},
     "output_type": "execute_result"
    }
   ],
   "source": [
    "Publications().sensitive"
   ]
  },
  {
   "cell_type": "code",
   "execution_count": null,
   "id": "756fca4d",
   "metadata": {},
   "outputs": [],
   "source": []
  },
  {
   "cell_type": "code",
   "execution_count": 142,
   "id": "85420c7c",
   "metadata": {},
   "outputs": [],
   "source": [
    "class Channels(): \n",
    "    \n",
    "    def __init__(self, graph_status):\n",
    "        \n",
    "        self.graph_status = graph_status ## матрица связей каналов\n",
    "        self.graph = np.zeros((100, 100), int)\n",
    "        \n",
    "        if self.graph_status:\n",
    "            for i in range(100):\n",
    "                for j in range(100):\n",
    "                    if np.random.binomial(n = 1, p = 0.5) > 0:\n",
    "                        self.graph[i][j] = np.random.poisson(10, 1)\n",
    "                        \n",
    "        self.n_followers = np.zeros(100, list) ## каналы с количеством подписчиков\n",
    "        for i in range(100): \n",
    "            for j in range(5000):\n",
    "                if i in users[j]: \n",
    "                        self.n_followers[i] += 1 "
   ]
  },
  {
   "cell_type": "code",
   "execution_count": 143,
   "id": "6708204f",
   "metadata": {},
   "outputs": [
    {
     "data": {
      "text/plain": [
       "array([306, 277, 288, 266, 283, 272, 290, 264, 255, 288, 294, 275, 254,\n",
       "       278, 270, 265, 271, 251, 290, 268, 266, 271, 305, 281, 274, 254,\n",
       "       268, 288, 287, 288, 232, 298, 286, 253, 289, 309, 251, 275, 275,\n",
       "       295, 258, 271, 261, 279, 302, 265, 272, 291, 310, 285, 279, 266,\n",
       "       275, 278, 242, 263, 279, 270, 308, 281, 296, 289, 271, 268, 292,\n",
       "       273, 299, 258, 279, 275, 264, 274, 243, 278, 282, 250, 259, 307,\n",
       "       295, 276, 303, 253, 291, 252, 295, 284, 271, 277, 267, 290, 278,\n",
       "       256, 292, 291, 260, 306, 284, 280, 283, 252], dtype=object)"
      ]
     },
     "execution_count": 143,
     "metadata": {},
     "output_type": "execute_result"
    }
   ],
   "source": [
    "Channels(False).n_followers"
   ]
  },
  {
   "cell_type": "code",
   "execution_count": null,
   "id": "e3412e7e",
   "metadata": {},
   "outputs": [],
   "source": []
  },
  {
   "cell_type": "code",
   "execution_count": null,
   "id": "7d51b7f2",
   "metadata": {},
   "outputs": [],
   "source": [
    "class Regulators:\n",
    "    \n",
    "    def __init__:\n",
    "        "
   ]
  }
 ],
 "metadata": {
  "kernelspec": {
   "display_name": "Python 3 (ipykernel)",
   "language": "python",
   "name": "python3"
  },
  "language_info": {
   "codemirror_mode": {
    "name": "ipython",
    "version": 3
   },
   "file_extension": ".py",
   "mimetype": "text/x-python",
   "name": "python",
   "nbconvert_exporter": "python",
   "pygments_lexer": "ipython3",
   "version": "3.9.13"
  }
 },
 "nbformat": 4,
 "nbformat_minor": 5
}
