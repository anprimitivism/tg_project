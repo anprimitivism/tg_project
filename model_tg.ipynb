{
 "cells": [
  {
   "cell_type": "markdown",
   "id": "b2b9915d",
   "metadata": {},
   "source": [
    "прописать классы  \n",
    "прописать элементы игры  \n",
    "вывести результаты"
   ]
  },
  {
   "cell_type": "code",
   "execution_count": 4,
   "id": "8170066b",
   "metadata": {},
   "outputs": [],
   "source": [
    "import numpy as np"
   ]
  },
  {
   "cell_type": "code",
   "execution_count": null,
   "id": "a29f7232",
   "metadata": {},
   "outputs": [],
   "source": []
  },
  {
   "cell_type": "code",
   "execution_count": 136,
   "id": "59e660b2",
   "metadata": {},
   "outputs": [],
   "source": [
    "class Users(): ## юзеры с подписками на каналы\n",
    "    \n",
    "    def __init__(self):\n",
    "        self.read = [np.random.choice(np.arange(0, 100), np.random.randint(1, 11), replace=False) for i in range(5000)]"
   ]
  },
  {
   "cell_type": "code",
   "execution_count": 113,
   "id": "e9624809",
   "metadata": {},
   "outputs": [
    {
     "data": {
      "text/plain": [
       "[array([ 7, 51, 63]),\n",
       " array([ 8, 30, 49, 56, 67, 40, 97]),\n",
       " array([18, 97, 89, 84, 26,  3, 33, 45]),\n",
       " array([33, 35, 47, 31, 57, 60, 46, 41, 93]),\n",
       " array([68, 20, 79, 22]),\n",
       " array([40, 12, 42, 37, 79, 41, 81, 63, 58]),\n",
       " array([76]),\n",
       " array([46, 43, 58, 17, 63,  7, 37, 74,  0, 77]),\n",
       " array([42, 54, 86, 21]),\n",
       " array([54, 98]),\n",
       " array([79, 22, 12, 53, 29, 74,  6]),\n",
       " array([70]),\n",
       " array([27, 76,  9]),\n",
       " array([20, 39, 96, 74]),\n",
       " array([ 8, 53, 98, 75, 17, 56,  2, 88, 73, 55]),\n",
       " array([64, 82,  9, 11, 59, 38]),\n",
       " array([72, 61, 25, 31,  6, 32]),\n",
       " array([28, 14,  2, 41, 82, 52, 22]),\n",
       " array([ 7, 88, 75]),\n",
       " array([16,  5]),\n",
       " array([58, 74, 88, 31, 78]),\n",
       " array([86, 21, 92, 84, 89,  0, 54, 68]),\n",
       " array([24,  7, 17, 18, 69, 87, 21, 81, 57, 71]),\n",
       " array([78, 41, 35, 40, 50]),\n",
       " array([51, 58, 89, 54, 97, 61,  8, 86]),\n",
       " array([11, 60, 18, 64]),\n",
       " array([ 5,  0, 30, 35, 79, 31, 57]),\n",
       " array([40, 19, 35, 83, 55]),\n",
       " array([13, 49, 17, 56, 68, 32]),\n",
       " array([25, 81, 97,  2, 49, 24, 34, 67, 13]),\n",
       " array([39]),\n",
       " array([10, 39, 11]),\n",
       " array([37, 52, 56, 22,  9, 15]),\n",
       " array([83, 36]),\n",
       " array([71, 94, 69, 50, 55, 78, 81]),\n",
       " array([ 7, 64, 95, 90, 42]),\n",
       " array([61, 48, 46]),\n",
       " array([11, 52, 66, 91, 89, 23, 78, 41, 20, 73]),\n",
       " array([91, 66, 27, 68]),\n",
       " array([ 9, 46, 57, 21, 69, 41, 70, 37]),\n",
       " array([10, 95, 98, 47, 59]),\n",
       " array([41,  0, 61, 17, 32, 44]),\n",
       " array([49, 85, 42, 95, 39, 71, 68, 60, 11]),\n",
       " array([37, 74,  7, 13, 38, 52, 41]),\n",
       " array([70, 18,  7, 53, 89, 96, 33, 16, 83, 31]),\n",
       " array([50, 92]),\n",
       " array([ 1, 22, 80, 44,  4, 85, 94]),\n",
       " array([58, 40, 19, 47, 30, 17, 75]),\n",
       " array([96, 36, 19, 85, 65, 81, 22,  3]),\n",
       " array([38, 50, 31, 22, 10, 83, 59])]"
      ]
     },
     "execution_count": 113,
     "metadata": {},
     "output_type": "execute_result"
    }
   ],
   "source": [
    "users = Users().__dict__['read']\n",
    "users[:50]"
   ]
  },
  {
   "cell_type": "code",
   "execution_count": 114,
   "id": "54a97e79",
   "metadata": {},
   "outputs": [],
   "source": [
    "for i in users:  #подписки не повторяются\n",
    "    if len(i) != len(set(i)):\n",
    "        print(i)"
   ]
  },
  {
   "cell_type": "code",
   "execution_count": null,
   "id": "eb305082",
   "metadata": {},
   "outputs": [],
   "source": []
  },
  {
   "cell_type": "code",
   "execution_count": 357,
   "id": "8d1e183c",
   "metadata": {},
   "outputs": [],
   "source": [
    "class Publications: ## публикация постов - сенситивные/несенситивные\n",
    "    \n",
    "    def __init__(self):\n",
    "        self.sensitive = np.zeros(100, int)\n",
    "        for i in range(100):\n",
    "            self.sensitive[i] = np.random.binomial(n = 1, p = 0.3)"
   ]
  },
  {
   "cell_type": "code",
   "execution_count": 372,
   "id": "aed91c0e",
   "metadata": {
    "scrolled": false
   },
   "outputs": [
    {
     "data": {
      "text/plain": [
       "array([0, 1, 0, 0, 0, 0, 0, 1, 1, 0, 1, 0, 0, 0, 0, 0, 0, 0, 1, 0, 1, 1,\n",
       "       0, 0, 0, 1, 1, 1, 0, 1, 0, 0, 1, 0, 1, 1, 0, 0, 0, 0, 1, 0, 0, 0,\n",
       "       1, 1, 1, 0, 0, 1, 0, 0, 1, 0, 0, 1, 0, 1, 0, 0, 0, 1, 0, 0, 0, 0,\n",
       "       0, 1, 0, 0, 0, 0, 0, 1, 0, 0, 0, 1, 0, 0, 0, 0, 0, 0, 0, 1, 1, 0,\n",
       "       0, 0, 0, 0, 1, 0, 0, 0, 0, 1, 1, 0])"
      ]
     },
     "execution_count": 372,
     "metadata": {},
     "output_type": "execute_result"
    }
   ],
   "source": [
    "Publications().sensitive"
   ]
  },
  {
   "cell_type": "code",
   "execution_count": 142,
   "id": "ba25c347",
   "metadata": {},
   "outputs": [],
   "source": [
    "class Channels(): \n",
    "    \n",
    "    def __init__(self, graph_status):\n",
    "        \n",
    "        self.graph_status = graph_status ## матрица связей каналов\n",
    "        self.graph = np.zeros((100, 100), int)\n",
    "        \n",
    "        if self.graph_status:\n",
    "            for i in range(100):\n",
    "                for j in range(100):\n",
    "                    if np.random.binomial(n = 1, p = 0.5) > 0:\n",
    "                        self.graph[i][j] = np.random.poisson(10, 1)\n",
    "                        \n",
    "        self.n_followers = np.zeros(100, list) ## каналы с количеством подписчиков\n",
    "        for i in range(100): \n",
    "            for j in range(5000):\n",
    "                if i in users[j]: \n",
    "                        self.n_followers[i] += 1 "
   ]
  },
  {
   "cell_type": "code",
   "execution_count": 144,
   "id": "4cd5e3d7",
   "metadata": {
    "scrolled": true
   },
   "outputs": [
    {
     "data": {
      "text/plain": [
       "array([[ 0,  9,  9, ...,  0, 13, 10],\n",
       "       [ 0,  6,  3, ...,  0,  7, 11],\n",
       "       [ 9, 14,  0, ...,  0,  0,  0],\n",
       "       ...,\n",
       "       [10,  0,  0, ...,  9,  0, 14],\n",
       "       [ 0, 14,  0, ...,  0,  7,  0],\n",
       "       [18,  0, 16, ..., 10,  0, 13]])"
      ]
     },
     "execution_count": 144,
     "metadata": {},
     "output_type": "execute_result"
    }
   ],
   "source": [
    "graph = Channels(True).graph\n",
    "graph"
   ]
  },
  {
   "cell_type": "code",
   "execution_count": 173,
   "id": "97a3d763",
   "metadata": {},
   "outputs": [
    {
     "name": "stdout",
     "output_type": "stream",
     "text": [
      "0.01040537611099068\n",
      "0.009610520991401113\n",
      "0.009538261435074788\n",
      "0.010622154779969651\n",
      "0.009755040104053762\n",
      "0.009574391213237951\n",
      "0.009791169882216923\n",
      "0.010477635667317003\n",
      "0.009682780547727437\n",
      "0.009610520991401113\n",
      "0.011019582339764434\n",
      "0.010152467663848544\n",
      "0.00989955921670641\n",
      "0.009176963653443167\n",
      "0.010369246332827516\n",
      "0.008382108533853603\n",
      "0.0107666738926223\n",
      "0.009140833875280006\n",
      "0.011164101452417082\n",
      "0.009935688994869572\n",
      "0.009321482766095816\n",
      "0.009791169882216923\n",
      "0.010911193005274948\n",
      "0.009574391213237951\n",
      "0.01008020810752222\n",
      "0.009610520991401113\n",
      "0.01008020810752222\n",
      "0.010694414336295975\n",
      "0.010549895223643326\n",
      "0.009863429438543247\n",
      "0.010802803670785462\n",
      "0.009538261435074788\n",
      "0.010044078329359057\n",
      "0.009032444540790519\n",
      "0.009140833875280006\n",
      "0.010513765445480164\n",
      "0.01026085699833803\n",
      "0.009791169882216923\n",
      "0.010477635667317003\n",
      "0.009393742322422141\n",
      "0.01026085699833803\n",
      "0.010224727220174867\n"
     ]
    }
   ],
   "source": [
    "for i in range(100): # вероятность блокировки в первом раунде у всех не более 1%\n",
    "    if sens_publications[i] == 1:\n",
    "        print(n_followers[i]/n_followers.sum())"
   ]
  },
  {
   "cell_type": "markdown",
   "id": "f8267b0a",
   "metadata": {},
   "source": [
    "### все здесь"
   ]
  },
  {
   "cell_type": "code",
   "execution_count": 8,
   "id": "736b2c32",
   "metadata": {},
   "outputs": [
    {
     "name": "stdout",
     "output_type": "stream",
     "text": [
      "[0 0 0 0 0 0 0 0 0 0 0 0 0 0 0 0 0 0 0 0 0 0 0 0 0 0 0 0 0 0 0 0 0 0 0 0 0\n",
      " 0 0 0 0 0 0 0 0 0 0 0 0 0 0 0 0 0 0 0 0 0 0 0 0 0 0 0 0 0 0 0 0 0 0 0 0 0\n",
      " 0 0 0 0 0 0 0 0 0 0 0 0 0 0 0 0 0 0 0 0 0 0 0 0 0 0]\n",
      "{0: 1676, 1: 1430, 2: 1339, 3: 1359, 4: 1270, 5: 1415, 6: 1544, 7: 1348, 8: 1338, 9: 1141, 10: 1401, 11: 1417, 12: 1288, 13: 1240, 14: 1218, 15: 1744, 16: 1628, 17: 1645, 18: 1297, 19: 1616, 20: 1652, 21: 1249, 22: 1479, 23: 1685, 24: 1213, 25: 1251, 26: 1776, 27: 1751, 28: 1341, 29: 1433, 30: 1302, 31: 1620, 32: 1271, 33: 1489, 34: 1451, 35: 1276, 36: 1322, 37: 1646, 38: 1439, 39: 1498, 40: 1288, 41: 1225, 42: 1373, 43: 1172, 44: 1264, 45: 1547, 46: 1434, 47: 1467, 48: 1529, 49: 1464, 50: 1126, 51: 1205, 52: 1586, 53: 1688, 54: 1362, 55: 954, 56: 1601, 57: 1689, 58: 1400, 59: 1305, 60: 1264, 61: 1358, 62: 1306, 63: 1363, 64: 1404, 65: 1332, 66: 1328, 67: 1214, 68: 1330, 69: 1703, 70: 1379, 71: 1573, 72: 1392, 73: 1334, 74: 1656, 75: 1222, 76: 1546, 77: 1456, 78: 1249, 79: 1453, 80: 1713, 81: 1284, 82: 1485, 83: 1271, 84: 1532, 85: 1144, 86: 1667, 87: 1148, 88: 1693, 89: 1549, 90: 1427, 91: 1617, 92: 1244, 93: 1332, 94: 1495, 95: 1461, 96: 1291, 97: 1573, 98: 1531, 99: 1516}\n",
      "[3 2 2 3 2 2 2 3 2 2 2 2 2 2 2 2 2 3 2 3 3 3 2 3 2 2 2 2 2 2 2 3 2 2 3 2 2\n",
      " 2 2 3 2 2 2 2 2 2 2 2 2 3 2 2 2 2 2 2 2 2 2 2 2 3 2 2 2 3 2 2 2 3 2 3 3 3\n",
      " 2 2 2 2 2 2 3 2 2 2 2 2 2 2 2 2 2 3 3 2 2 3 2 2 2 2]\n",
      "[1944 1692 1579 1637 1508 1672 1798 1617 1584 1386 1654 1680 1524 1482\n",
      " 1457 1999 1873 1918 1538 1880 1927 1521 1717 1955 1475 1511 2036 1981\n",
      " 1590 1659 1544 1909 1515 1738 1723 1528 1587 1901 1685 1763 1516 1455\n",
      " 1615 1439 1527 1800 1691 1727 1760 1732 1374 1441 1844 1924 1608 1179\n",
      " 1838 1937 1664 1564 1498 1632 1538 1605 1668 1599 1589 1471 1591 1982\n",
      " 1632 1850 1662 1610 1917 1486 1795 1692 1488 1686 1980 1517 1746 1514\n",
      " 1796 1390 1899 1385 1952 1800 1683 1881 1512 1593 1746 1730 1557 1821\n",
      " 1780 1760]\n",
      "[1 1 1 1 1 1 1 1 1 1 1 1 1 1 1 1 1 1 1 1 1 1 1 1 1 1 1 1 1 1 1 1 1 1 1 1 1\n",
      " 1 1 1 1 1 1 1 1 1 1 1 1 1 1 1 1 1 1 1 1 1 1 1 1 1 1 1 1 1 1 1 1 1 1 1 1 1\n",
      " 1 1 1 1 1 1 1 1 1 1 1 1 1 1 1 1 1 1 1 1 1 1 1 1 1 1]\n",
      "[[10 10  0 ...  0  0  0]\n",
      " [15  0  8 ...  9  6 13]\n",
      " [ 7  0 17 ... 12  7  6]\n",
      " ...\n",
      " [12 11  0 ...  0  0 10]\n",
      " [ 8 12 11 ... 12  0  8]\n",
      " [ 0 13  0 ...  0  0  0]]\n"
     ]
    }
   ],
   "source": [
    "import numpy as np\n",
    "\n",
    "class Model:\n",
    "    \n",
    "    class Users(): ## юзеры с подписками на каналы\n",
    "    \n",
    "        def __init__(self):\n",
    "            self.read = [np.random.choice(np.arange(0, 100), np.random.randint(1, 11), replace=False) for i in range(5000)]\n",
    "        \n",
    "        \n",
    "    class Publications: ## публикация постов - сенситивные/несенситивные - рандомная только для 1 круга?\n",
    "    \n",
    "        def __init__(self):\n",
    "            self.sensitive = np.zeros(100, int)\n",
    "            for i in range(100):\n",
    "                self.sensitive[i] = np.random.binomial(n = 1, p = 0.3)\n",
    "    \n",
    "    \n",
    "    class Channels(): \n",
    "\n",
    "        def __init__(self, graph_status, users):\n",
    "\n",
    "            self.graph_status = graph_status ## матрица связей каналов\n",
    "            self.graph = np.zeros((100, 100), int)\n",
    "\n",
    "            if self.graph_status:\n",
    "                for i in range(100):\n",
    "                    for j in range(100):\n",
    "                        if np.random.binomial(n = 1, p = 0.5) > 0:\n",
    "                            self.graph[i][j] = np.random.poisson(10, 1)\n",
    "\n",
    "            self.n_followers = np.zeros(100, int) ## каналы с количеством подписчиков\n",
    "            for i in range(100): \n",
    "                for j in range(5000):\n",
    "                    if i in users.read[j]: \n",
    "                        self.n_followers[i] += 1 \n",
    "            \n",
    "            self.followers = {i: [] for i in range(100)} ## каналы с перечислением подписчиков\n",
    "            for i in range(100): \n",
    "                for j in range(5000):\n",
    "                    if i in users.read[j]: \n",
    "                        self.followers[i].append(j)\n",
    "    \n",
    "    \n",
    "    class Payoff1: ## раздача банов\n",
    "    \n",
    "        def __init__(self, n_followers, sens_publications):\n",
    "            # блокировки\n",
    "            self.ban = np.zeros(100, int)\n",
    "            for i in range(100):\n",
    "                if sens_publications[i] == 1:\n",
    "                    allus = n_followers.sum()\n",
    "                    self.ban[i] = np.random.binomial(n = 1, p = n_followers[i]/allus)\n",
    "    \n",
    "    \n",
    "    class Payoff2: ## переход подписчиков\n",
    "    \n",
    "        def __init__(self, graph, sens_publications, n_followers, followers, users):\n",
    "            self.growth = {i: 0 for i in range(100)} \n",
    "\n",
    "            for i in range(100):\n",
    "                for j in range(100):\n",
    "                    if i != j:\n",
    "                        if graph[i][j] > 0 and sens_publications[j] != 1:\n",
    "                            for follower in followers[j]:\n",
    "                                prob = n_followers[i]/(sum(n_followers[y] for y in list(x for x in users.read[follower]))+n_followers[i])\n",
    "                                if np.random.binomial(n = 1, p = prob) == 1:\n",
    "                                    self.growth[i] += 1\n",
    "    \n",
    "    class Signal():\n",
    "\n",
    "        def __init__(self, n_followers, growth):\n",
    "        # очки за публикацию информативного поста\n",
    "            self.informative = np.zeros(100, int)\n",
    "            for i in range(100):\n",
    "                self.informative[i] = n_followers[i]**2/n_followers.sum()\n",
    "\n",
    "        # очки за публикацию сенситивного поста\n",
    "            self.sensitive = np.zeros(100, int)\n",
    "            for i in range(100):\n",
    "                self.sensitive[i] = -(n_followers[i]**2)/n_followers.sum() + (1 - n_followers[i]/n_followers.sum())*(n_followers[i] + growth[i])\n",
    "\n",
    "        # за что больше очков - 1 за сенситивный\n",
    "            self.post = np.zeros(100, int)\n",
    "            for i in range(100):\n",
    "                if self.informative[i] < self.sensitive[i]:\n",
    "                    self.post[i] = 1\n",
    "    \n",
    "    \n",
    "    def __init__(self):\n",
    "        \n",
    "        self.users = self.Users()\n",
    "        self.sens_publications = self.Publications().sensitive\n",
    "        self.n_followers = self.Channels(False, self.users).n_followers\n",
    "        self.followers = self.Channels(False, self.users).followers\n",
    "        self.graph = self.Channels(True, self.users).graph\n",
    "        self.ban = self.Payoff1(self.n_followers, self.sens_publications).ban\n",
    "        self.growth = self.Payoff2(self.graph, self.sens_publications, self.n_followers, self.followers, self.users).growth\n",
    "        self.signal = self.Signal(self.n_followers, self.growth)\n",
    "        \n",
    "model = Model()\n",
    "\n",
    "print(model.ban)\n",
    "print(model.growth)\n",
    "print(model.signal.informative)\n",
    "print(model.signal.sensitive)\n",
    "print(model.signal.post)\n",
    "print(model.graph)"
   ]
  }
 ],
 "metadata": {
  "kernelspec": {
   "display_name": "Python 3 (ipykernel)",
   "language": "python",
   "name": "python3"
  },
  "language_info": {
   "codemirror_mode": {
    "name": "ipython",
    "version": 3
   },
   "file_extension": ".py",
   "mimetype": "text/x-python",
   "name": "python",
   "nbconvert_exporter": "python",
   "pygments_lexer": "ipython3",
   "version": "3.9.13"
  }
 },
 "nbformat": 4,
 "nbformat_minor": 5
}
